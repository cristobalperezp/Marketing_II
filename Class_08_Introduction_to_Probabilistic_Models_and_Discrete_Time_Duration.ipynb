{
  "cells": [
    {
      "cell_type": "markdown",
      "metadata": {
        "id": "view-in-github",
        "colab_type": "text"
      },
      "source": [
        "<a href=\"https://colab.research.google.com/github/cristobalperezp/Marketing_II/blob/main/Class_08_Introduction_to_Probabilistic_Models_and_Discrete_Time_Duration.ipynb\" target=\"_parent\"><img src=\"https://colab.research.google.com/assets/colab-badge.svg\" alt=\"Open In Colab\"/></a>"
      ]
    },
    {
      "cell_type": "markdown",
      "source": [
        "# Class_08_Introduction_to_Probabilistic_Models_and_Discrete_Time_Duration"
      ],
      "metadata": {
        "id": "qpjd1ttw8mmL"
      }
    },
    {
      "cell_type": "code",
      "execution_count": 2,
      "metadata": {
        "id": "b80bNvweZCS3"
      },
      "outputs": [],
      "source": [
        "#librerías para trabajo con dataframes:\n",
        "import pandas as pd\n",
        "import numpy as np\n",
        "#librerías para graficar:\n",
        "import seaborn as sns\n",
        "import matplotlib.pyplot as plt\n",
        "#optimizador:\n",
        "from scipy.optimize import minimize\n",
        "#librerías de distribuciones:\n",
        "import scipy.stats as stats\n",
        "import scipy.special as special"
      ]
    },
    {
      "cell_type": "code",
      "execution_count": 3,
      "metadata": {
        "colab": {
          "base_uri": "https://localhost:8080/"
        },
        "id": "D5DqhZoKZfcC",
        "outputId": "be66d16d-f396-4a9b-8f5c-42d64306a6e0"
      },
      "outputs": [
        {
          "output_type": "stream",
          "name": "stdout",
          "text": [
            "fatal: destination path 'Marketing_II' already exists and is not an empty directory.\n"
          ]
        }
      ],
      "source": [
        "#cargamos las bases de datos:\n",
        "!git clone https://github.com/cristobalperezp/Marketing_II.git"
      ]
    },
    {
      "cell_type": "code",
      "execution_count": 4,
      "metadata": {
        "colab": {
          "base_uri": "https://localhost:8080/",
          "height": 452
        },
        "id": "svDukZU-Z85V",
        "outputId": "b398749e-e001-4447-b7d3-e327ab7fac4b"
      },
      "outputs": [
        {
          "output_type": "execute_result",
          "data": {
            "text/plain": [
              "    year  ncust\n",
              "0      0   1000\n",
              "1      1    631\n",
              "2      2    468\n",
              "3      3    382\n",
              "4      4    326\n",
              "5      5    289\n",
              "6      6    262\n",
              "7      7    241\n",
              "8      8    223\n",
              "9      9    207\n",
              "10    10    194\n",
              "11    11    183\n",
              "12    12    173"
            ],
            "text/html": [
              "\n",
              "  <div id=\"df-79c78a2f-00df-4882-8207-2c186415a6dd\">\n",
              "    <div class=\"colab-df-container\">\n",
              "      <div>\n",
              "<style scoped>\n",
              "    .dataframe tbody tr th:only-of-type {\n",
              "        vertical-align: middle;\n",
              "    }\n",
              "\n",
              "    .dataframe tbody tr th {\n",
              "        vertical-align: top;\n",
              "    }\n",
              "\n",
              "    .dataframe thead th {\n",
              "        text-align: right;\n",
              "    }\n",
              "</style>\n",
              "<table border=\"1\" class=\"dataframe\">\n",
              "  <thead>\n",
              "    <tr style=\"text-align: right;\">\n",
              "      <th></th>\n",
              "      <th>year</th>\n",
              "      <th>ncust</th>\n",
              "    </tr>\n",
              "  </thead>\n",
              "  <tbody>\n",
              "    <tr>\n",
              "      <th>0</th>\n",
              "      <td>0</td>\n",
              "      <td>1000</td>\n",
              "    </tr>\n",
              "    <tr>\n",
              "      <th>1</th>\n",
              "      <td>1</td>\n",
              "      <td>631</td>\n",
              "    </tr>\n",
              "    <tr>\n",
              "      <th>2</th>\n",
              "      <td>2</td>\n",
              "      <td>468</td>\n",
              "    </tr>\n",
              "    <tr>\n",
              "      <th>3</th>\n",
              "      <td>3</td>\n",
              "      <td>382</td>\n",
              "    </tr>\n",
              "    <tr>\n",
              "      <th>4</th>\n",
              "      <td>4</td>\n",
              "      <td>326</td>\n",
              "    </tr>\n",
              "    <tr>\n",
              "      <th>5</th>\n",
              "      <td>5</td>\n",
              "      <td>289</td>\n",
              "    </tr>\n",
              "    <tr>\n",
              "      <th>6</th>\n",
              "      <td>6</td>\n",
              "      <td>262</td>\n",
              "    </tr>\n",
              "    <tr>\n",
              "      <th>7</th>\n",
              "      <td>7</td>\n",
              "      <td>241</td>\n",
              "    </tr>\n",
              "    <tr>\n",
              "      <th>8</th>\n",
              "      <td>8</td>\n",
              "      <td>223</td>\n",
              "    </tr>\n",
              "    <tr>\n",
              "      <th>9</th>\n",
              "      <td>9</td>\n",
              "      <td>207</td>\n",
              "    </tr>\n",
              "    <tr>\n",
              "      <th>10</th>\n",
              "      <td>10</td>\n",
              "      <td>194</td>\n",
              "    </tr>\n",
              "    <tr>\n",
              "      <th>11</th>\n",
              "      <td>11</td>\n",
              "      <td>183</td>\n",
              "    </tr>\n",
              "    <tr>\n",
              "      <th>12</th>\n",
              "      <td>12</td>\n",
              "      <td>173</td>\n",
              "    </tr>\n",
              "  </tbody>\n",
              "</table>\n",
              "</div>\n",
              "      <button class=\"colab-df-convert\" onclick=\"convertToInteractive('df-79c78a2f-00df-4882-8207-2c186415a6dd')\"\n",
              "              title=\"Convert this dataframe to an interactive table.\"\n",
              "              style=\"display:none;\">\n",
              "        \n",
              "  <svg xmlns=\"http://www.w3.org/2000/svg\" height=\"24px\"viewBox=\"0 0 24 24\"\n",
              "       width=\"24px\">\n",
              "    <path d=\"M0 0h24v24H0V0z\" fill=\"none\"/>\n",
              "    <path d=\"M18.56 5.44l.94 2.06.94-2.06 2.06-.94-2.06-.94-.94-2.06-.94 2.06-2.06.94zm-11 1L8.5 8.5l.94-2.06 2.06-.94-2.06-.94L8.5 2.5l-.94 2.06-2.06.94zm10 10l.94 2.06.94-2.06 2.06-.94-2.06-.94-.94-2.06-.94 2.06-2.06.94z\"/><path d=\"M17.41 7.96l-1.37-1.37c-.4-.4-.92-.59-1.43-.59-.52 0-1.04.2-1.43.59L10.3 9.45l-7.72 7.72c-.78.78-.78 2.05 0 2.83L4 21.41c.39.39.9.59 1.41.59.51 0 1.02-.2 1.41-.59l7.78-7.78 2.81-2.81c.8-.78.8-2.07 0-2.86zM5.41 20L4 18.59l7.72-7.72 1.47 1.35L5.41 20z\"/>\n",
              "  </svg>\n",
              "      </button>\n",
              "      \n",
              "  <style>\n",
              "    .colab-df-container {\n",
              "      display:flex;\n",
              "      flex-wrap:wrap;\n",
              "      gap: 12px;\n",
              "    }\n",
              "\n",
              "    .colab-df-convert {\n",
              "      background-color: #E8F0FE;\n",
              "      border: none;\n",
              "      border-radius: 50%;\n",
              "      cursor: pointer;\n",
              "      display: none;\n",
              "      fill: #1967D2;\n",
              "      height: 32px;\n",
              "      padding: 0 0 0 0;\n",
              "      width: 32px;\n",
              "    }\n",
              "\n",
              "    .colab-df-convert:hover {\n",
              "      background-color: #E2EBFA;\n",
              "      box-shadow: 0px 1px 2px rgba(60, 64, 67, 0.3), 0px 1px 3px 1px rgba(60, 64, 67, 0.15);\n",
              "      fill: #174EA6;\n",
              "    }\n",
              "\n",
              "    [theme=dark] .colab-df-convert {\n",
              "      background-color: #3B4455;\n",
              "      fill: #D2E3FC;\n",
              "    }\n",
              "\n",
              "    [theme=dark] .colab-df-convert:hover {\n",
              "      background-color: #434B5C;\n",
              "      box-shadow: 0px 1px 3px 1px rgba(0, 0, 0, 0.15);\n",
              "      filter: drop-shadow(0px 1px 2px rgba(0, 0, 0, 0.3));\n",
              "      fill: #FFFFFF;\n",
              "    }\n",
              "  </style>\n",
              "\n",
              "      <script>\n",
              "        const buttonEl =\n",
              "          document.querySelector('#df-79c78a2f-00df-4882-8207-2c186415a6dd button.colab-df-convert');\n",
              "        buttonEl.style.display =\n",
              "          google.colab.kernel.accessAllowed ? 'block' : 'none';\n",
              "\n",
              "        async function convertToInteractive(key) {\n",
              "          const element = document.querySelector('#df-79c78a2f-00df-4882-8207-2c186415a6dd');\n",
              "          const dataTable =\n",
              "            await google.colab.kernel.invokeFunction('convertToInteractive',\n",
              "                                                     [key], {});\n",
              "          if (!dataTable) return;\n",
              "\n",
              "          const docLinkHtml = 'Like what you see? Visit the ' +\n",
              "            '<a target=\"_blank\" href=https://colab.research.google.com/notebooks/data_table.ipynb>data table notebook</a>'\n",
              "            + ' to learn more about interactive tables.';\n",
              "          element.innerHTML = '';\n",
              "          dataTable['output_type'] = 'display_data';\n",
              "          await google.colab.output.renderOutput(dataTable, element);\n",
              "          const docLink = document.createElement('div');\n",
              "          docLink.innerHTML = docLinkHtml;\n",
              "          element.appendChild(docLink);\n",
              "        }\n",
              "      </script>\n",
              "    </div>\n",
              "  </div>\n",
              "  "
            ]
          },
          "metadata": {},
          "execution_count": 4
        }
      ],
      "source": [
        "#se lee la base de datos\n",
        "mydata = pd.read_csv('/content/Marketing_II/retentiondata.txt',sep = '\\t')\n",
        "mydata"
      ]
    },
    {
      "cell_type": "code",
      "execution_count": 5,
      "metadata": {
        "colab": {
          "base_uri": "https://localhost:8080/"
        },
        "id": "zkaHJqcsh0Si",
        "outputId": "4797995f-2afe-4d02-b8f8-a560b8c05ac6"
      },
      "outputs": [
        {
          "output_type": "stream",
          "name": "stderr",
          "text": [
            "/usr/local/lib/python3.7/dist-packages/ipykernel_launcher.py:4: SettingWithCopyWarning: \n",
            "A value is trying to be set on a copy of a slice from a DataFrame\n",
            "\n",
            "See the caveats in the documentation: https://pandas.pydata.org/pandas-docs/stable/user_guide/indexing.html#returning-a-view-versus-a-copy\n",
            "  after removing the cwd from sys.path.\n"
          ]
        }
      ],
      "source": [
        "#se crea la columna 'lost'\n",
        "mydata['lost'] = np.zeros(mydata.shape[0])\n",
        "for i in range(mydata.shape[0]-1):\n",
        "  mydata['lost'][i+1] = -(mydata['ncust'][i+1]-mydata['ncust'][i])\n",
        "train = mydata.iloc[1:8]\n",
        "test = mydata.iloc[9:]"
      ]
    },
    {
      "cell_type": "markdown",
      "source": [
        "##1.- loglikelihod for the shifted geometric model "
      ],
      "metadata": {
        "id": "t3vMNNMr8R6P"
      }
    },
    {
      "cell_type": "code",
      "execution_count": 6,
      "metadata": {
        "id": "JTFGrqnJbFuH"
      },
      "outputs": [],
      "source": [
        "#loglikelihod for the shifted geometric model --------------------------------\n",
        "nc = train.shape[0]\n",
        "def logl(theta):\n",
        "  #transform variable to impose is in the (0,1) range\n",
        "  mytheta = np.exp(theta)/(1+np.exp(theta))\n",
        "  #define auxiliary arrays\n",
        "  pr = np.zeros(nc+1)\n",
        "  ll = np.zeros(nc+1)\n",
        "  #detection likelihood\n",
        "  for i in range(0,nc):\n",
        "    pr[i] = mytheta*( (1-mytheta)**(train['year'][i+1]-1) )\n",
        "    ll[i] = train['lost'][i+1]*np.log(pr[i])\n",
        "  #survival likelihood\n",
        "  pr[nc] = 1-np.sum(pr[0:nc])\n",
        "  ll[nc] = train['ncust'][nc]*np.log(pr[nc])\n",
        "  return -np.sum(ll)"
      ]
    },
    {
      "cell_type": "code",
      "execution_count": 7,
      "metadata": {
        "colab": {
          "base_uri": "https://localhost:8080/"
        },
        "id": "76CfhxTdeCP-",
        "outputId": "207f73c0-5356-48d7-8c5d-a1638c4db5d4"
      },
      "outputs": [
        {
          "output_type": "execute_result",
          "data": {
            "text/plain": [
              "0.22602739239009365"
            ]
          },
          "metadata": {},
          "execution_count": 7
        }
      ],
      "source": [
        "theta_start = 0.88\n",
        "\n",
        "#Run the minimizer\n",
        "results = minimize(logl, theta_start, method = 'BFGS')\n",
        "\n",
        "#Print the results\n",
        "mytheta = np.exp(results.x[0])/(1+np.exp(results.x[0]))\n",
        "mytheta"
      ]
    },
    {
      "cell_type": "markdown",
      "source": [
        "##2.- loglikelihod for the shifted geometric model with two segments"
      ],
      "metadata": {
        "id": "rWrG8_2uv8V8"
      }
    },
    {
      "cell_type": "code",
      "source": [
        "#loglikelihod for the shifted geometric model with two segments --------------\n",
        "def logl2(theta):\n",
        "  #transform variable to impose is in the (0,1) range\n",
        "  mytheta = np.exp(theta)/(1+np.exp(theta))\n",
        "      # mytheta[1]: churn probability segment 1\n",
        "      # mytheta[2]: churn probability segment 2\n",
        "      # mytheta[3]: probability belonging segment 1\n",
        "  #define auxiliary arrays\n",
        "  pr = np.zeros((2,nc+1))\n",
        "  ll = np.zeros(nc+1)\n",
        "  #detection likelihood\n",
        "  for i in range(0,nc):\n",
        "    pr[0,i] = mytheta[0]*(1-mytheta[0])**(train['year'][i+1]-1)\n",
        "    pr[1,i] = mytheta[1]*(1-mytheta[1])**(train['year'][i+1]-1)\n",
        "    ll[i] = train['lost'][i+1]*np.log(mytheta[2]*pr[0,i] + (1-mytheta[2])*pr[1,i])\n",
        "  #survival likelihood\n",
        "  pr[0,nc] = 1-np.sum(pr[0,0:nc])\n",
        "  pr[1,nc] = 1-np.sum(pr[1,0:nc])\n",
        "  ll[nc] = train['ncust'][nc]*np.log(mytheta[2]*pr[0,nc]+(1-mytheta[2])*pr[1,nc])\n",
        "  return -np.sum(ll)"
      ],
      "metadata": {
        "id": "IbHimyqondhs"
      },
      "execution_count": 8,
      "outputs": []
    },
    {
      "cell_type": "code",
      "source": [
        "theta_start = [0.1,0.1,0.1]\n",
        "\n",
        "#Run the minimizer\n",
        "results = minimize(logl2, theta_start, method = 'BFGS')\n",
        "\n",
        "#Print the results\n",
        "mytheta = np.exp(results.x)/(1+np.exp(results.x))\n",
        "mytheta"
      ],
      "metadata": {
        "colab": {
          "base_uri": "https://localhost:8080/"
        },
        "id": "EJfKduuNpRWx",
        "outputId": "c29995cb-2a00-43aa-d909-3f734d9d43a8"
      },
      "execution_count": 9,
      "outputs": [
        {
          "output_type": "execute_result",
          "data": {
            "text/plain": [
              "array([0.08302495, 0.58601148, 0.43936373])"
            ]
          },
          "metadata": {},
          "execution_count": 9
        }
      ]
    },
    {
      "cell_type": "markdown",
      "source": [
        "##3.- loglikelihod for beta geometric model"
      ],
      "metadata": {
        "id": "Rzg0o1Wsv5R5"
      }
    },
    {
      "cell_type": "code",
      "source": [
        "#loglikelihod for beta geometric model ------------------------------------------------------------\n",
        "def logl3(theta):\n",
        "  #transform variable to impose they are positive\n",
        "  myalpha = np.exp(theta[0])\n",
        "  mybeta = np.exp(theta[1])\n",
        "  #define auxiliary arrays\n",
        "  pr = np.zeros(nc+1)\n",
        "  ll = np.zeros(nc+1)\n",
        "  #detection likelihood\n",
        "  for i in range(0,nc):\n",
        "    pr[i] = special.beta(myalpha+1,mybeta + train['year'][i+1] -1)/special.beta(myalpha,mybeta)\n",
        "    ll[i] = train['lost'][i+1]*np.log(pr[i])\n",
        "  #survival likelihood\n",
        "  pr[nc] = 1-np.sum(pr[0:nc])\n",
        "  ll[nc] = train['ncust'][nc]*np.log(pr[nc])\n",
        "  return -np.sum(ll)"
      ],
      "metadata": {
        "id": "o9AVCFBNsyci"
      },
      "execution_count": 10,
      "outputs": []
    },
    {
      "cell_type": "code",
      "source": [
        "theta_start = [0.666,0.6666]\n",
        "\n",
        "#Run the minimizer\n",
        "results = minimize(logl3, theta_start, method = 'BFGS')\n",
        "\n",
        "#Print the results\n",
        "myalpha = np.exp(results.x[0])\n",
        "mybeta = np.exp(results.x[1])\n",
        "myalpha,mybeta"
      ],
      "metadata": {
        "colab": {
          "base_uri": "https://localhost:8080/"
        },
        "id": "lsdGstCEtiVT",
        "outputId": "147cdc5a-5628-40c0-e05e-3a05a84a031d"
      },
      "execution_count": 11,
      "outputs": [
        {
          "output_type": "execute_result",
          "data": {
            "text/plain": [
              "(0.7040771701889271, 1.1820427480085802)"
            ]
          },
          "metadata": {},
          "execution_count": 11
        }
      ]
    }
  ],
  "metadata": {
    "colab": {
      "name": "Optimización Verosimilitud.ipynb",
      "provenance": [],
      "include_colab_link": true
    },
    "kernelspec": {
      "display_name": "Python 3",
      "name": "python3"
    },
    "language_info": {
      "name": "python"
    }
  },
  "nbformat": 4,
  "nbformat_minor": 0
}